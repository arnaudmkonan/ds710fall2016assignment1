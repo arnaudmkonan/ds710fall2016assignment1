{
 "metadata": {
  "kernelspec": {
   "display_name": "Python 3",
   "language": "python",
   "name": "python3"
  },
  "language_info": {
   "codemirror_mode": {
    "name": "ipython",
    "version": 3
   },
   "file_extension": ".py",
   "mimetype": "text/x-python",
   "name": "python",
   "nbconvert_exporter": "python",
   "pygments_lexer": "ipython3",
   "version": "3.4.3"
  },
  "name": "",
  "signature": "sha256:7cb59165c3ff29eacbf6f518b4430ae89810fc491707b5494896958c5830bc73"
 },
 "nbformat": 3,
 "nbformat_minor": 0,
 "worksheets": [
  {
   "cells": [
    {
     "cell_type": "markdown",
     "metadata": {},
     "source": [
      "Welcome to the Jupyter notebook!\n",
      "\n",
      "This cell is a markdown cell, which means it contains text."
     ]
    },
    {
     "cell_type": "code",
     "collapsed": false,
     "input": [
      "#This cell is a code cell.  Pressing shift-enter or using the \"Run Cell\" button will evaluate the code in this cell.\n",
      "#The \"Run Cell\" button looks like a little black triangle.\n",
      "#Run the code in this cell.\n",
      "\n",
      "print(\"hello world\")"
     ],
     "language": "python",
     "metadata": {},
     "outputs": [
      {
       "output_type": "stream",
       "stream": "stdout",
       "text": [
        "hello world\n"
       ]
      }
     ],
     "prompt_number": 1
    },
    {
     "cell_type": "code",
     "collapsed": false,
     "input": [
      "#create a variable named a, and store the value 3+1 in it\n",
      "a = 3+1\n",
      "\n",
      "#display a\n",
      "print(a)"
     ],
     "language": "python",
     "metadata": {},
     "outputs": [
      {
       "output_type": "stream",
       "stream": "stdout",
       "text": [
        "4\n"
       ]
      }
     ],
     "prompt_number": 2
    },
    {
     "cell_type": "code",
     "collapsed": false,
     "input": [
      "#you can combine multiple objects in the same print statement\n",
      "\n",
      "print(\"three plus one is\", a)"
     ],
     "language": "python",
     "metadata": {},
     "outputs": [
      {
       "output_type": "stream",
       "stream": "stdout",
       "text": [
        "('three plus one is', 4)\n"
       ]
      }
     ],
     "prompt_number": 3
    },
    {
     "cell_type": "markdown",
     "metadata": {},
     "source": [
      "Change the cell below to output your first and last names."
     ]
    },
    {
     "cell_type": "code",
     "collapsed": false,
     "input": [
      "#Note that the usual Python convention is to separate words in variable names using underscores\n",
      "\n",
      "first_name = \"Arnaud\"\n",
      "last_name = \"Konan\"\n",
      "print(first_name,last_name)"
     ],
     "language": "python",
     "metadata": {},
     "outputs": [
      {
       "output_type": "stream",
       "stream": "stdout",
       "text": [
        "('Arnaud', 'Konan')\n"
       ]
      }
     ],
     "prompt_number": 5
    },
    {
     "cell_type": "code",
     "collapsed": false,
     "input": [
      "#We can use the tab or \"\\t\" and newline or \"\\n\" characters to format our output.\n",
      "#Adjust the output below so that your first and last name appear in the appropriate column.\n",
      "\n",
      "print(\"Given Name\",\"\\t\",\"Surname\",\"\\n\",first_name,\"\\t\",last_name)"
     ],
     "language": "python",
     "metadata": {},
     "outputs": [
      {
       "ename": "SyntaxError",
       "evalue": "unexpected character after line continuation character (<ipython-input-12-29899b989a74>, line 4)",
       "output_type": "pyerr",
       "traceback": [
        "\u001b[1;36m  File \u001b[1;32m\"<ipython-input-12-29899b989a74>\"\u001b[1;36m, line \u001b[1;32m4\u001b[0m\n\u001b[1;33m    print(\"Given Name\",\\t,\"Surname\",\"\\n\",first_name,\"\\t\",last_name)\u001b[0m\n\u001b[1;37m                                                                   ^\u001b[0m\n\u001b[1;31mSyntaxError\u001b[0m\u001b[1;31m:\u001b[0m unexpected character after line continuation character\n"
       ]
      }
     ],
     "prompt_number": 12
    },
    {
     "cell_type": "code",
     "collapsed": false,
     "input": [
      "#We can also combine strings using the + operator.\n",
      "#Adjust the output below so that it includes a space between your first and last name.\n",
      "print(first_name+\" \"+last_name)"
     ],
     "language": "python",
     "metadata": {},
     "outputs": [
      {
       "output_type": "stream",
       "stream": "stdout",
       "text": [
        "Arnaud Konan\n"
       ]
      }
     ],
     "prompt_number": 7
    },
    {
     "cell_type": "markdown",
     "metadata": {},
     "source": [
      "You can see a list of all of the functions associated to an object by typing the object's name followed by a period, then hitting tab."
     ]
    },
    {
     "cell_type": "code",
     "collapsed": true,
     "input": [
      "#Find a function that will convert your given name to uppercase.\n",
      "first_name.upper()"
     ],
     "language": "python",
     "metadata": {},
     "outputs": [
      {
       "output_type": "stream",
       "stream": "stdout",
       "text": [
        "ARNAUD\n"
       ]
      }
     ],
     "prompt_number": 10
    },
    {
     "cell_type": "code",
     "collapsed": false,
     "input": [],
     "language": "python",
     "metadata": {},
     "outputs": []
    }
   ],
   "metadata": {}
  }
 ]
}